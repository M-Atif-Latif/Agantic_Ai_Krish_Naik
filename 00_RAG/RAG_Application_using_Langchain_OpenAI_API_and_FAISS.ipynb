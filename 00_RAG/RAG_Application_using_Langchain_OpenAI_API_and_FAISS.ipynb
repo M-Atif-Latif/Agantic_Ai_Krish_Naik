{
 "cells": [],
 "metadata": {
  "kernelspec": {
   "display_name": "Agantic_Ai",
   "language": "python",
   "name": "python3"
  },
  "language_info": {
   "name": "python",
   "version": "3.12.11"
  }
 },
 "nbformat": 4,
 "nbformat_minor": 5
}
